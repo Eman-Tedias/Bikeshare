{
 "cells": [
  {
   "cell_type": "code",
   "execution_count": null,
   "id": "5eff723b",
   "metadata": {},
   "outputs": [],
   "source": [
    "import panda as pd\n",
    "import numpy as np\n",
    "import time\n",
    "\n",
    "CITY_DATA = {'chicago': 'chicago.csv',\n",
    "             'new york city': 'new_york_city.csv',\n",
    "             'washington': 'washington.csv'}"
   ]
  },
  {
   "cell_type": "code",
   "execution_count": 2,
   "id": "b659cb00",
   "metadata": {},
   "outputs": [],
   "source": [
    "def filters(city='', month='', day=''):\n",
    "    global cities\n",
    "    cities = ['chicago', 'new york city', 'washington']\n",
    "    city = str(input('What city do you want to check data from? (Chicago, New York City or Washington): ')).lower()\n",
    "    while city not in cities:\n",
    "        city = str(input('Invalid city name, please choose one of the list (Chicago, New York City or Washington): ')).lower()\n",
    "    global months\n",
    "    months = ['january', 'february', 'march', 'april', 'may', 'june', 'all']\n",
    "    month =  month = str(input('What month do you want to check data from? \\nFrom January to June or press \\\"all\" to get information from all months: ')).lower()\n",
    "    while month not in months:\n",
    "        month = month = str(input('Invalid value, please choose one month from January to June or press \\\"all\" to get information from all months: ')).lower()\n",
    "    global dow\n",
    "    dow = ['sunday', 'monday', 'tuesday', 'wednesday', 'thursday', 'friday', 'saturday', 'all']\n",
    "    day = str(input('What day of week do you want to check data from? \\nPress \\\"all\\\" to get information from all days of the week: ')).lower()\n",
    "    while day not in dow:\n",
    "        day = str(input('Invalid day of week, please type a correct value or press \\\"all\\\" to get information from all days of week: ')).lower()\n",
    "    return city, month, day"
   ]
  },
  {
   "cell_type": "code",
   "execution_count": 3,
   "id": "e507a7ef",
   "metadata": {},
   "outputs": [],
   "source": [
    "def load_data(city, month, day):\n",
    "    df = pd.read_csv(CITY_DATA[city])\n",
    "    if month != 'all':\n",
    "        df['Start Time'] = pd.to_datetime(df['Start Time'])\n",
    "        month = months.index(month) + 1\n",
    "        df = df[df['month'] == month]\n",
    "    if day != 'all':\n",
    "        df = df[df['day'] == day.title()]\n",
    "    return df"
   ]
  },
  {
   "cell_type": "code",
   "execution_count": null,
   "id": "4750d079",
   "metadata": {},
   "outputs": [],
   "source": [
    "def time_stats(df):\n",
    "    df['Start Time'] = pd.to_datetime(df['Start Time'])\n",
    "    df['months'] = df['Start Time'].month\n",
    "    common_month = df['months'].mode()\n",
    "    common_month = months[common_month[0]-1].title()\n",
    "    \n",
    "    df['dow'] = df['Start Time'].dt.day_name()\n",
    "    common_dow = df['dow'].mode()[0]\n",
    "    \n",
    "    df['hours'] = df['Start Time'].dt.hour\n",
    "    common_hour = df['hours'].mode()[0]\n",
    "    \n",
    "    return common_month, common_dow, common_hour"
   ]
  },
  {
   "cell_type": "code",
   "execution_count": null,
   "id": "dce1218c",
   "metadata": {},
   "outputs": [],
   "source": [
    "def station_stats(df):\n",
    "    most_common_start = df['Start Station'].mode()[0]\n",
    "    most_common_end = df['End Station'].mode()[0]\n",
    "    df['Combined Station'] = df['Start Station'] + ' and ' + df['End Station']\n",
    "    most_common_comb = df['Combined Station'].mode()[0]"
   ]
  },
  {
   "cell_type": "code",
   "execution_count": null,
   "id": "9b033b2b",
   "metadata": {},
   "outputs": [],
   "source": [
    "def trip_duration_stats(df):\n",
    "    total_travel_time = df['Trip Duration'].sum()\n",
    "    total_travel_time = int(total_travel_time/60)\n",
    "    \n",
    "    mean_travel_time = df['Trip Duration'].mean()\n",
    "    mean_travel_time = int(mean_travel_time/60)"
   ]
  },
  {
   "cell_type": "code",
   "execution_count": null,
   "id": "816208e8",
   "metadata": {},
   "outputs": [],
   "source": [
    "def user_stats(df):\n",
    "    user_count = df.groupby('User Type').count()\n",
    "    for name, data in user_count.iteritems():\n",
    "        print(f'{name} = {data}\\n')\n",
    "    if 'Gender' in df:\n",
    "        gender_count = df.groupby('Gender').sum()\n",
    "    for name, data in gender_count.iteritems():\n",
    "        print(f'{name} = {data}\\n)\n",
    "    if 'Birth Year' in df:\n",
    "        earliest_birth = int(df['Birth Year']).min()\n",
    "        recent_birth = int(df['Birth Year']).max()\n",
    "        most_common_year = int(df['Birth Year']).mode()[0]"
   ]
  },
  {
   "cell_type": "code",
   "execution_count": null,
   "id": "42a23523",
   "metadata": {},
   "outputs": [],
   "source": [
    "def main()\n",
    "    while True:\n",
    "        city, month, day = filters()\n",
    "        df = load_data(city, month, day)\n",
    "        \n",
    "        time_stats(df)\n",
    "        station_stats(df)\n",
    "        trip_duration_stats(df)\n",
    "        user_stats(df)\n",
    "        \n",
    "        restart = str(input('\\nWould you like to restart? Enter yes or no.\\n')).lower()\n",
    "        while restart not in 'yesno':\n",
    "            restart = str(input('\\nSorry, I didn\\'nt understand...\\nWould you like to restart? Enter yes or no.\\n')).lower()\n",
    "        if restart in 'no':\n",
    "            break"
   ]
  },
  {
   "cell_type": "code",
   "execution_count": null,
   "id": "10d4755b",
   "metadata": {},
   "outputs": [],
   "source": [
    "if __name__ == \"__main__\":\n",
    "    main()"
   ]
  }
 ],
 "metadata": {
  "kernelspec": {
   "display_name": "Python 3 (ipykernel)",
   "language": "python",
   "name": "python3"
  },
  "language_info": {
   "codemirror_mode": {
    "name": "ipython",
    "version": 3
   },
   "file_extension": ".py",
   "mimetype": "text/x-python",
   "name": "python",
   "nbconvert_exporter": "python",
   "pygments_lexer": "ipython3",
   "version": "3.9.12"
  }
 },
 "nbformat": 4,
 "nbformat_minor": 5
}
