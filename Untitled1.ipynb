{
  "nbformat": 4,
  "nbformat_minor": 0,
  "metadata": {
    "colab": {
      "provenance": [],
      "authorship_tag": "ABX9TyO7o0UzFkdbLvohBMKijsEy",
      "include_colab_link": true
    },
    "kernelspec": {
      "name": "python3",
      "display_name": "Python 3"
    },
    "language_info": {
      "name": "python"
    }
  },
  "cells": [
    {
      "cell_type": "markdown",
      "metadata": {
        "id": "view-in-github",
        "colab_type": "text"
      },
      "source": [
        "<a href=\"https://colab.research.google.com/github/Eman-Tedias/Bikeshare/blob/main/Untitled1.ipynb\" target=\"_parent\"><img src=\"https://colab.research.google.com/assets/colab-badge.svg\" alt=\"Open In Colab\"/></a>"
      ]
    },
    {
      "cell_type": "code",
      "source": [
        "pip install geopy"
      ],
      "metadata": {
        "colab": {
          "base_uri": "https://localhost:8080/"
        },
        "id": "cteNupjrWgJI",
        "outputId": "b37d5486-e7e4-4d1f-dea8-d3e088c2963d"
      },
      "execution_count": null,
      "outputs": [
        {
          "output_type": "stream",
          "name": "stdout",
          "text": [
            "Looking in indexes: https://pypi.org/simple, https://us-python.pkg.dev/colab-wheels/public/simple/\n",
            "Requirement already satisfied: geopy in /usr/local/lib/python3.10/dist-packages (2.3.0)\n",
            "Requirement already satisfied: geographiclib<3,>=1.52 in /usr/local/lib/python3.10/dist-packages (from geopy) (2.0)\n"
          ]
        }
      ]
    },
    {
      "cell_type": "code",
      "source": [
        "import osmnx as ox\n",
        "import networkx as nx\n",
        "import googlemaps\n",
        "import pandas as pd\n",
        "from geopy.geocoders import Nominatim\n",
        "import itertools\n"
      ],
      "metadata": {
        "id": "WAAvQXjTZgtw"
      },
      "execution_count": 4,
      "outputs": []
    },
    {
      "cell_type": "code",
      "source": [
        "df = pd.read_csv('endereco.csv')\n",
        "\n",
        "# Criar um conjunto de coordenadas a partir das colunas de latitude e longitude\n",
        "coordenadas = set(zip(df['latitude'], df['longitude']))"
      ],
      "metadata": {
        "id": "oVRzAGCDcTVI"
      },
      "execution_count": 5,
      "outputs": []
    },
    {
      "cell_type": "code",
      "source": [
        "# Função para obter o endereço a partir de uma coordenada\n",
        "def obter_endereco(latitude, longitude):\n",
        "    geolocator = Nominatim(user_agent=\"my_app\")\n",
        "    location = geolocator.reverse((latitude, longitude), exactly_one=True)\n",
        "    return location.address if location else None\n",
        "\n",
        "# Mapear as coordenadas para os respectivos endereços\n",
        "enderecos = {coord: obter_endereco(coord[0], coord[1]) for coord in coordenadas}\n",
        "\n",
        "# Calcular todas as permutações possíveis dos endereços\n",
        "permutacoes = list(itertools.permutations(enderecos.values()))"
      ],
      "metadata": {
        "id": "Jc-SbA5k1c1G"
      },
      "execution_count": null,
      "outputs": []
    },
    {
      "cell_type": "code",
      "source": [
        "# Função para calcular o custo de uma rota (soma das distâncias entre os endereços)\n",
        "def calcular_custo_rota(rota):\n",
        "    custo = 0\n",
        "    for i in range(len(rota) - 1):\n",
        "        endereco_atual = rota[i]\n",
        "        endereco_proximo = rota[i + 1]\n",
        "        distancia = geodesic((enderecos[endereco_atual][0], enderecos[endereco_atual][1]),\n",
        "                             (enderecos[endereco_proximo][0], enderecos[endereco_proximo][1])).kilometers\n",
        "        custo += distancia\n",
        "    return custo"
      ],
      "metadata": {
        "id": "dtXSt46fZ6su"
      },
      "execution_count": null,
      "outputs": []
    },
    {
      "cell_type": "code",
      "source": [
        "# Encontrar a melhor rota otimizada com base no menor custo\n",
        "melhor_rota = min(permutacoes, key=calcular_custo_rota)\n",
        "\n",
        "# Exibir a rota otimizada com base nos endereços\n",
        "print(\"Rota otimizada:\")\n",
        "for endereco in melhor_rota:\n",
        "    print(endereco)"
      ],
      "metadata": {
        "id": "a_9QFSW4dY3k"
      },
      "execution_count": null,
      "outputs": []
    }
  ]
}